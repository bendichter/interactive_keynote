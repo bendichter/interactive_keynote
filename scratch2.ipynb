{
 "cells": [
  {
   "cell_type": "code",
   "execution_count": 23,
   "metadata": {
    "collapsed": true
   },
   "outputs": [],
   "source": [
    "from bokeh.plotting import figure\n",
    "from bokeh.embed import components\n",
    "\n",
    "plot = figure(responsive=True)\n",
    "plot.circle([1,2], [3,4])\n",
    "\n",
    "script, div = components(plot)"
   ]
  },
  {
   "cell_type": "code",
   "execution_count": 48,
   "metadata": {
    "collapsed": true
   },
   "outputs": [],
   "source": [
    "script =\"\"\"<script type=\"text/javascript\">\n",
    "    (function() {\n",
    "  var fn = function() {\n",
    "    Bokeh.safely(function() {\n",
    "      var docs_json = {\"1054\":{\"roots\":{\"references\":[{\"attributes\":{\"callback\":null,\"column_names\":[\"y\",\"x\"],\"data\":{\"x\":[1,2],\"y\":[3,4]}},\"id\":\"1038\",\"type\":\"ColumnDataSource\"},{\"attributes\":{\"fill_color\":{\"value\":\"#1f77b4\"},\"line_color\":{\"value\":\"#1f77b4\"},\"x\":{\"field\":\"x\"},\"y\":{\"field\":\"y\"}},\"id\":\"1039\",\"type\":\"Circle\"},{\"attributes\":{\"callback\":null},\"id\":\"1018\",\"type\":\"DataRange1d\"},{\"attributes\":{\"callback\":null},\"id\":\"1019\",\"type\":\"DataRange1d\"},{\"attributes\":{\"overlay\":{\"id\":\"1036\",\"type\":\"BoxAnnotation\"},\"plot\":{\"id\":\"1017\",\"subtype\":\"Figure\",\"type\":\"Plot\"}},\"id\":\"1032\",\"type\":\"BoxZoomTool\"},{\"attributes\":{\"plot\":{\"id\":\"1017\",\"subtype\":\"Figure\",\"type\":\"Plot\"}},\"id\":\"1033\",\"type\":\"SaveTool\"},{\"attributes\":{\"active_drag\":\"auto\",\"active_inspect\":\"auto\",\"active_scroll\":\"auto\",\"active_tap\":\"auto\",\"tools\":[{\"id\":\"1030\",\"type\":\"PanTool\"},{\"id\":\"1031\",\"type\":\"WheelZoomTool\"},{\"id\":\"1032\",\"type\":\"BoxZoomTool\"},{\"id\":\"1033\",\"type\":\"SaveTool\"},{\"id\":\"1034\",\"type\":\"ResetTool\"},{\"id\":\"1035\",\"type\":\"HelpTool\"}]},\"id\":\"1016\",\"type\":\"Toolbar\"},{\"attributes\":{\"plot\":{\"id\":\"1017\",\"subtype\":\"Figure\",\"type\":\"Plot\"}},\"id\":\"1031\",\"type\":\"WheelZoomTool\"},{\"attributes\":{\"bottom_units\":\"screen\",\"fill_alpha\":{\"value\":0.5},\"fill_color\":{\"value\":\"lightgrey\"},\"left_units\":\"screen\",\"level\":\"overlay\",\"line_alpha\":{\"value\":1.0},\"line_color\":{\"value\":\"black\"},\"line_dash\":[4,4],\"line_width\":{\"value\":2},\"plot\":null,\"render_mode\":\"css\",\"right_units\":\"screen\",\"top_units\":\"screen\"},\"id\":\"1036\",\"type\":\"BoxAnnotation\"},{\"attributes\":{\"plot\":{\"id\":\"1017\",\"subtype\":\"Figure\",\"type\":\"Plot\"}},\"id\":\"1034\",\"type\":\"ResetTool\"},{\"attributes\":{\"plot\":{\"id\":\"1017\",\"subtype\":\"Figure\",\"type\":\"Plot\"}},\"id\":\"1035\",\"type\":\"HelpTool\"},{\"attributes\":{\"plot\":null,\"text\":\"\"},\"id\":\"1042\",\"type\":\"Title\"},{\"attributes\":{\"fill_alpha\":{\"value\":0.1},\"fill_color\":{\"value\":\"#1f77b4\"},\"line_alpha\":{\"value\":0.1},\"line_color\":{\"value\":\"#1f77b4\"},\"x\":{\"field\":\"x\"},\"y\":{\"field\":\"y\"}},\"id\":\"1040\",\"type\":\"Circle\"},{\"attributes\":{},\"id\":\"1015\",\"type\":\"ToolEvents\"},{\"attributes\":{\"plot\":{\"id\":\"1017\",\"subtype\":\"Figure\",\"type\":\"Plot\"}},\"id\":\"1030\",\"type\":\"PanTool\"},{\"attributes\":{\"formatter\":{\"id\":\"1044\",\"type\":\"BasicTickFormatter\"},\"plot\":{\"id\":\"1017\",\"subtype\":\"Figure\",\"type\":\"Plot\"},\"ticker\":{\"id\":\"1021\",\"type\":\"BasicTicker\"}},\"id\":\"1020\",\"type\":\"LinearAxis\"},{\"attributes\":{\"formatter\":{\"id\":\"1046\",\"type\":\"BasicTickFormatter\"},\"plot\":{\"id\":\"1017\",\"subtype\":\"Figure\",\"type\":\"Plot\"},\"ticker\":{\"id\":\"1026\",\"type\":\"BasicTicker\"}},\"id\":\"1025\",\"type\":\"LinearAxis\"},{\"attributes\":{\"plot\":{\"id\":\"1017\",\"subtype\":\"Figure\",\"type\":\"Plot\"},\"ticker\":{\"id\":\"1021\",\"type\":\"BasicTicker\"}},\"id\":\"1024\",\"type\":\"Grid\"},{\"attributes\":{\"data_source\":{\"id\":\"1038\",\"type\":\"ColumnDataSource\"},\"glyph\":{\"id\":\"1039\",\"type\":\"Circle\"},\"hover_glyph\":null,\"muted_glyph\":null,\"nonselection_glyph\":{\"id\":\"1040\",\"type\":\"Circle\"},\"selection_glyph\":null},\"id\":\"1041\",\"type\":\"GlyphRenderer\"},{\"attributes\":{},\"id\":\"1026\",\"type\":\"BasicTicker\"},{\"attributes\":{},\"id\":\"1021\",\"type\":\"BasicTicker\"},{\"attributes\":{},\"id\":\"1046\",\"type\":\"BasicTickFormatter\"},{\"attributes\":{},\"id\":\"1044\",\"type\":\"BasicTickFormatter\"},{\"attributes\":{\"dimension\":1,\"plot\":{\"id\":\"1017\",\"subtype\":\"Figure\",\"type\":\"Plot\"},\"ticker\":{\"id\":\"1026\",\"type\":\"BasicTicker\"}},\"id\":\"1029\",\"type\":\"Grid\"},{\"attributes\":{\"below\":[{\"id\":\"1020\",\"type\":\"LinearAxis\"}],\"left\":[{\"id\":\"1025\",\"type\":\"LinearAxis\"}],\"renderers\":[{\"id\":\"1020\",\"type\":\"LinearAxis\"},{\"id\":\"1024\",\"type\":\"Grid\"},{\"id\":\"1025\",\"type\":\"LinearAxis\"},{\"id\":\"1029\",\"type\":\"Grid\"},{\"id\":\"1036\",\"type\":\"BoxAnnotation\"},{\"id\":\"1041\",\"type\":\"GlyphRenderer\"}],\"sizing_mode\":\"scale_width\",\"title\":{\"id\":\"1042\",\"type\":\"Title\"},\"tool_events\":{\"id\":\"1015\",\"type\":\"ToolEvents\"},\"toolbar\":{\"id\":\"1016\",\"type\":\"Toolbar\"},\"x_range\":{\"id\":\"1018\",\"type\":\"DataRange1d\"},\"y_range\":{\"id\":\"1019\",\"type\":\"DataRange1d\"}},\"id\":\"1017\",\"subtype\":\"Figure\",\"type\":\"Plot\"}],\"root_ids\":[\"1017\"]},\"title\":\"Bokeh Application\",\"version\":\"0.12.6dev3-50-g07db421\"}};\n",
    "      var render_items = [{\"docid\":\"1054\",\"elementid\":\"1055\",\"modelid\":\"1017\"}];\n",
    "      \n",
    "      Bokeh.embed.embed_items(docs_json, render_items);\n",
    "    });\n",
    "  };\n",
    "  if (document.readyState != \"loading\") fn();\n",
    "  else document.addEventListener(\"DOMContentLoaded\", fn);\n",
    "})();\n",
    "\n",
    "</script>\"\"\"\n"
   ]
  },
  {
   "cell_type": "code",
   "execution_count": 51,
   "metadata": {
    "collapsed": true
   },
   "outputs": [],
   "source": [
    "script = \"\""
   ]
  },
  {
   "cell_type": "code",
   "execution_count": 52,
   "metadata": {
    "collapsed": true
   },
   "outputs": [],
   "source": [
    "script = '<link rel=\"stylesheet\" href=\"bokeh.css\" type=\"text/css\" /><script type=\"text/javascript\" src=\"bokeh.js\"></script>' + script +'<script type=\"text/javascript\">Bokeh.set_log_level(\"info\");</script>' \n",
    "\n"
   ]
  },
  {
   "cell_type": "code",
   "execution_count": 26,
   "metadata": {
    "collapsed": true
   },
   "outputs": [],
   "source": [
    "def clean_fo(fo_txt):\n",
    "    fo_txt = fo_txt.replace('<head>','<head xmlns=\"http://www.w3.org/1999/xhtml\">')\n",
    "    fo_txt = fo_txt.replace('<body>','<body xmlns=\"http://www.w3.org/1999/xhtml\">')\n",
    "    fo_txt = fo_txt.replace('\"','\\\\\"')\n",
    "    fo_txt = fo_txt.replace('\\n',' ')\n",
    "    return fo_txt\n",
    "    \n",
    "def add_text_to_file(fname, text, before_text='<image xlink:href=\\\\\"845F'):\n",
    "    with open(fname, 'r') as f:\n",
    "        otxt = f.read()\n",
    "    insert_ind = otxt.find(before_text)\n",
    "    out_txt = otxt[:insert_ind] + text + otxt[insert_ind:]\n",
    "    with open(fname,'w') as f:\n",
    "        f.write(out_txt)\n",
    "    print(out_txt)\n",
    "    "
   ]
  },
  {
   "cell_type": "code",
   "execution_count": 54,
   "metadata": {
    "collapsed": true
   },
   "outputs": [],
   "source": [
    "div = \"\"\"<div class=\"bk-root\">\n",
    "    <div class=\"bk-plotdiv\" id=\"1055\"></div>\n",
    "</div>\"\"\""
   ]
  },
  {
   "cell_type": "code",
   "execution_count": 55,
   "metadata": {
    "collapsed": false
   },
   "outputs": [
    {
     "data": {
      "text/plain": [
       "'<foreignObject x=\\\\\"200\\\\\" y=\\\\\"200\\\\\" width=\\\\\"400\\\\\" height=\\\\\"400\\\\\"><body xmlns=\\\\\"http://www.w3.org/1999/xhtml\\\\\"><div class=\\\\\"bk-root\\\\\">     <div class=\\\\\"bk-plotdiv\\\\\" id=\\\\\"1055\\\\\"></div> </div></body></foreignObject>'"
      ]
     },
     "execution_count": 55,
     "metadata": {},
     "output_type": "execute_result"
    }
   ],
   "source": [
    "fo_txt = '<foreignObject x=\"200\" y=\"200\" width=\"400\" height=\"400\"><body>' + div + '</body></foreignObject>'\n",
    "fo_txt = clean_fo(fo_txt)\n",
    "fo_txt"
   ]
  },
  {
   "cell_type": "code",
   "execution_count": 53,
   "metadata": {
    "collapsed": false
   },
   "outputs": [
    {
     "name": "stdout",
     "output_type": "stream",
     "text": [
      "<!DOCTYPE html>\n",
      "<html xmlns=\"http://www.w3.org/1999/xhtml\">\n",
      "    <head>\n",
      "        <title>Keynote</title>\n",
      "        <link href=\"KeynoteDHTMLPlayer.css\" rel=\"stylesheet\" type=\"text/css\" media=\"screen\"/>\n",
      "        <meta name=\"viewport\" content=\"initial-scale = 1.0, minimum-scale = 1.0, maximum-scale = 1.0, user-scalable = no, width = device-width\" />\n",
      "        <meta http-equiv=\"Content-Type\" content=\"text/html; charset=UTF-8\" />\n",
      "        <link rel=\"stylesheet\" href=\"bokeh.css\" type=\"text/css\" /><script type=\"text/javascript\" src=\"bokeh.js\"></script><script type=\"text/javascript\">Bokeh.set_log_level(\"info\");</script><script type=\"text/javascript\" src=\"prototype.js\"></script>\n",
      "        <script type=\"text/javascript\" src=\"DebuggingSupport.js\"></script>\n",
      "        <script type=\"text/javascript\" src=\"string.js\"></script>\n",
      "        <script type=\"text/javascript\" src=\"Utilities.js\"></script>\n",
      "        <script type=\"text/javascript\" src=\"KeynoteDHTMLPlayer.js\"></script>\n",
      "        <script type=\"text/javascript\" src=\"ShowController.js\"></script>\n",
      "        <script type=\"text/javascript\" src=\"TouchController.js\"></script>\n",
      "        <script type=\"text/javascript\" src=\"DisplayManager.js\"></script>\n",
      "        <script type=\"text/javascript\" src=\"StageManager.js\"></script>\n",
      "        <script type=\"text/javascript\" src=\"AnimationManager.js\"></script>\n",
      "        <script type=\"text/javascript\" src=\"TextureManager.js\"></script>\n",
      "        <script type=\"text/javascript\" src=\"ScriptManager.js\"></script>\n",
      "        <script type=\"text/javascript\" src=\"OrientationController.js\"></script>\n",
      "        <script type=\"text/javascript\" src=\"KPFObjects.js\"></script>\n",
      "        <script type=\"text/javascript\" src=\"SlideManager.js\"></script>\n",
      "        <script type=\"text/javascript\" src=\"NavigatorController.js\"></script>\n",
      "        <script type=\"text/javascript\" src=\"SlideNumberController.js\"></script>\n",
      "        <script type=\"text/javascript\" src=\"HelpPlacardController.js\"></script>\n",
      "        <script type=\"text/javascript\" src=\"NarrationManager.js\"></script>\n",
      "\t</head>\n",
      "    <body id=\"body\" bgcolor=\"black\">\n",
      "        <div id=\"background\" class=\"bigBlackSquare\">\n",
      "        </div>\n",
      "        <div id=\"previousButton\" class=\"PreviousButtonDisabled\">\n",
      "        </div>\n",
      "        <div id=\"nextButton\" class=\"nextButtonDisabled\">\n",
      "        </div>\n",
      "        <div id=\"slideCounter\">\n",
      "        </div>\n",
      "        <span id=\"helpText\"></span>\n",
      "        <div id=\"stageArea\">\n",
      "            <div id=\"stage\" class=\"stage\">\n",
      "            </div>\n",
      "            <div id=\"hyperlinkPlane\" class=\"stage\">\n",
      "            </div>\n",
      "        </div>\n",
      "        <div id=\"slideshowNavigator\">\n",
      "        </div>\n",
      "        <div id=\"slideNumberControl\">\n",
      "        </div>\n",
      "        <div id=\"slideNumberDisplay\">\n",
      "        </div>\n",
      "        <div id=\"helpPlacard\">\n",
      "        </div>\n",
      "        <div id=\"waitingIndicator\">\n",
      "        \t<div id=\"waitingSpinner\">\n",
      "        \t</div>\n",
      "        </div>\n",
      "\t</body>\n",
      "</html>\n"
     ]
    }
   ],
   "source": [
    "html_fname = '/Users/Claire/Documents/interactive_keynote/test_pres2/assets/player/KeynoteDHTMLPlayer.html'\n",
    "before_html = '<script type=\"text/javascript\" src=\"prototype.js\"></script>'\n",
    "add_text_to_file(html_fname, script, before_html)"
   ]
  },
  {
   "cell_type": "code",
   "execution_count": 56,
   "metadata": {
    "collapsed": false,
    "scrolled": false
   },
   "outputs": [
    {
     "name": "stdout",
     "output_type": "stream",
     "text": [
      "local_svg( {\"name\":\"E10BB10BE922392D45A33BD92B9BC651\",\"slide\":\"615F7CD4-E262-41F7-8138-806EC6AB1FAB\",\"svg\":\"<?xml version=\\\"1.0\\\" encoding=\\\"UTF-8\\\" standalone=\\\"no\\\"?><svg xmlns=\\\"http://www.w3.org/2000/svg\\\" xmlns:xlink=\\\"http://www.w3.org/1999/xlink\\\" clip-rule=\\\"evenodd\\\" stroke-miterlimit=\\\"4.00\\\" viewBox=\\\"0 0 1024 768\\\"><desc>SVG generated by Keynote</desc><defs><pattern id=\\\"E4E4E66A-94EC-4BD6-A108-5BCC07F09989\\\" patternUnits=\\\"userSpaceOnUse\\\" width=\\\"325\\\" height=\\\"325\\\" viewBox=\\\"0 0 325 325\\\" patternTransform=\\\"matrix(0.923077, 0.000000, 0.000000, -0.923077, 676.000000, 514.000000)\\\"><foreignObject x=\\\"100\\\" y=\\\"25\\\" width=\\\"250\\\" height=\\\"50\\\"><head xmlns=\\\"http://www.w3.org/1999/xhtml\\\"></head><body xmlns=\\\"http://www.w3.org/1999/xhtml\\\">lines</body></foreignObject><image xlink:href=\\\"4E19BA5B5AAEEE873DD2E78EC2A1210A.jpeg\\\" width=\\\"325.00\\\" height=\\\"325.00\\\"></image></pattern></defs><g transform=\\\"matrix(1.00, 0.00, -0.00, -1.00, 0.0, 768.0)\\\"><path d=\\\"M 0.0 768.0 L 1024.0 768.0 L 1024.0 0.0 L 0.0 0.0 Z M 0.0 768.0 \\\" fill=\\\"#FEFFFF\\\"></path><text xml:space=\\\"preserve\\\" font-family=\\\"Helvetica-Light\\\" font-size=\\\"80.0\\\" fill=\\\"#000000\\\" transform=\\\"matrix(1.00, 0.00, -0.00, -1.00, 368.0, 401.0)\\\">M</text><text xml:space=\\\"preserve\\\" font-family=\\\"Helvetica-Light\\\" font-size=\\\"80.0\\\" fill=\\\"#000000\\\" transform=\\\"matrix(1.00, 0.00, -0.00, -1.00, 434.6, 401.0)\\\">y</text><text xml:space=\\\"preserve\\\" font-family=\\\"Helvetica-Light\\\" font-size=\\\"80.0\\\" fill=\\\"#000000\\\" transform=\\\"matrix(1.00, 0.00, -0.00, -1.00, 474.6, 401.0)\\\"> </text><text xml:space=\\\"preserve\\\" font-family=\\\"Helvetica-Light\\\" font-size=\\\"80.0\\\" fill=\\\"#000000\\\" transform=\\\"matrix(1.00, 0.00, -0.00, -1.00, 496.9, 401.0)\\\">p</text><text xml:space=\\\"preserve\\\" font-family=\\\"Helvetica-Light\\\" font-size=\\\"80.0\\\" fill=\\\"#000000\\\" transform=\\\"matrix(1.00, 0.00, -0.00, -1.00, 545.8, 401.0)\\\">r</text><text xml:space=\\\"preserve\\\" font-family=\\\"Helvetica-Light\\\" font-size=\\\"80.0\\\" fill=\\\"#000000\\\" transform=\\\"matrix(1.00, 0.00, -0.00, -1.00, 571.0, 401.0)\\\">e</text><text xml:space=\\\"preserve\\\" font-family=\\\"Helvetica-Light\\\" font-size=\\\"80.0\\\" fill=\\\"#000000\\\" transform=\\\"matrix(1.00, 0.00, -0.00, -1.00, 615.4, 401.0)\\\">s</text><foreignObject x=\\\"100\\\" y=\\\"25\\\" width=\\\"250\\\" height=\\\"50\\\"><head xmlns=\\\"http://www.w3.org/1999/xhtml\\\"></head><body xmlns=\\\"http://www.w3.org/1999/xhtml\\\">lines</body></foreignObject><foreignObject x=\\\"200\\\" y=\\\"200\\\" width=\\\"400\\\" height=\\\"400\\\"><body xmlns=\\\"http://www.w3.org/1999/xhtml\\\"><div class=\\\"bk-root\\\">     <div class=\\\"bk-plotdiv\\\" id=\\\"1055\\\"></div> </div></body></foreignObject><image xlink:href=\\\"845F83EA83123759497600E1D73BEC26.png\\\" width=\\\"314.00\\\" height=\\\"330.00\\\" transform=\\\"matrix(1.00, 0.00, -0.00, -1.00, 673.0, 515.0)\\\" opacity=\\\"0.50\\\"></image><g><clipPath id=\\\"clip-30\\\"><path d=\\\"M 676.0 514.0 L 984.3 514.0 L 984.3 189.9 L 676.0 189.9 Z M 676.0 514.0 \\\"></path></clipPath><g clip-path=\\\"url(#clip-30)\\\"><path d=\\\"M 676.0 189.9 L 984.3 189.9 L 984.3 514.0 L 676.0 514.0 Z M 676.0 189.9 \\\" fill=\\\"url(#E4E4E66A-94EC-4BD6-A108-5BCC07F09989)\\\"></path><path d=\\\"M 676.0 514.0 L 984.3 514.0 L 984.3 189.9 L 676.0 189.9 Z M 676.0 514.0 \\\" fill=\\\"#009BFC\\\" fill-opacity=\\\"0.50\\\"></path></g></g><g><clipPath id=\\\"clip-31\\\"><path d=\\\"M 674.0 189.9 L 986.3 189.9 L 986.3 514.0 L 674.0 514.0 Z M 674.0 189.9 \\\"></path></clipPath><g clip-path=\\\"url(#clip-31)\\\"><text xml:space=\\\"preserve\\\" font-family=\\\"Helvetica-Light\\\" font-size=\\\"24.0\\\" fill=\\\"#FEFFFE\\\" transform=\\\"matrix(1.00, 0.00, -0.00, -1.00, 817.0, 343.0)\\\">≠</text><text xml:space=\\\"preserve\\\" font-family=\\\"Helvetica-Light\\\" font-size=\\\"24.0\\\" fill=\\\"#FEFFFE\\\" transform=\\\"matrix(1.00, 0.00, -0.00, -1.00, 830.6, 343.0)\\\">1</text></g></g></g></svg>\"} )\n",
      "\n"
     ]
    }
   ],
   "source": [
    "    \n",
    "svgp_fname = '/Users/Claire/Documents/interactive_keynote/test_pres2/assets/615F7CD4-E262-41F7-8138-806EC6AB1FAB/assets/E10BB10BE922392D45A33BD92B9BC651.svgp'\n",
    "add_text_to_file(svgp_fname, fo_txt, '<image xlink:href=\\\\\"845F')\n"
   ]
  },
  {
   "cell_type": "code",
   "execution_count": null,
   "metadata": {
    "collapsed": true
   },
   "outputs": [],
   "source": []
  }
 ],
 "metadata": {
  "kernelspec": {
   "display_name": "Python 2",
   "language": "python",
   "name": "python2"
  },
  "language_info": {
   "codemirror_mode": {
    "name": "ipython",
    "version": 2
   },
   "file_extension": ".py",
   "mimetype": "text/x-python",
   "name": "python",
   "nbconvert_exporter": "python",
   "pygments_lexer": "ipython2",
   "version": "2.7.13"
  }
 },
 "nbformat": 4,
 "nbformat_minor": 2
}
