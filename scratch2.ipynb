{
 "cells": [
  {
   "cell_type": "code",
   "execution_count": null,
   "metadata": {
    "collapsed": true
   },
   "outputs": [],
   "source": [
    "%load_ext autoreload\n",
    "%autoreload 2"
   ]
  },
  {
   "cell_type": "code",
   "execution_count": 50,
   "metadata": {
    "collapsed": true
   },
   "outputs": [],
   "source": [
    "def clean_fo(fo_txt):\n",
    "    fo_txt = fo_txt.replace('<head','<head xmlns=\"http://www.w3.org/1999/xhtml\"')\n",
    "    fo_txt = fo_txt.replace('<body','<body xmlns=\"http://www.w3.org/1999/xhtml\"')\n",
    "    fo_txt = fo_txt.replace('\"','\\\\\"')\n",
    "    fo_txt = fo_txt.replace('\\n',' ')\n",
    "    return fo_txt\n",
    "    \n",
    "def add_text_to_file(fname, text, before_text='<image xlink:href=\\\\\"845F'):\n",
    "    with open(fname, 'r') as f:\n",
    "        otxt = f.read()\n",
    "    insert_ind = otxt.find(before_text)\n",
    "    out_txt = otxt[:insert_ind] + text + otxt[insert_ind:]\n",
    "    with open(fname,'w') as f:\n",
    "        f.write(out_txt)\n",
    "    print(out_txt)"
   ]
  },
  {
   "cell_type": "code",
   "execution_count": 51,
   "metadata": {
    "collapsed": true
   },
   "outputs": [],
   "source": [
    "target = '/Users/bendichter/Development/interactive_keynote/test_pres2/'"
   ]
  },
  {
   "cell_type": "code",
   "execution_count": 55,
   "metadata": {
    "collapsed": true
   },
   "outputs": [],
   "source": [
    "from bokeh.plotting import figure\n",
    "from bokeh.embed import components\n",
    "\n",
    "plot = figure(responsive=True)\n",
    "plot.circle([1,2], [3,4])\n",
    "\n",
    "script, div = components(plot)"
   ]
  },
  {
   "cell_type": "code",
   "execution_count": 58,
   "metadata": {
    "collapsed": false
   },
   "outputs": [
    {
     "data": {
      "text/plain": [
       "'\\n<div class=\"bk-root\">\\n    <div class=\"bk-plotdiv\" id=\"e4e94705-68b0-43a4-af09-7f5d525e8421\"></div>\\n</div>'"
      ]
     },
     "execution_count": 58,
     "metadata": {},
     "output_type": "execute_result"
    }
   ],
   "source": [
    "div"
   ]
  },
  {
   "cell_type": "code",
   "execution_count": null,
   "metadata": {
    "collapsed": true
   },
   "outputs": [],
   "source": [
    "div[div.find(\"id=\")+3:"
   ]
  },
  {
   "cell_type": "code",
   "execution_count": 41,
   "metadata": {
    "collapsed": true
   },
   "outputs": [],
   "source": [
    "script =\"\"\"<script type=\"text/javascript\">\n",
    "    (function() {\n",
    "  var fn = function() {\n",
    "    Bokeh.safely(function() {\n",
    "      var docs_json = {\"1054\":{\"roots\":{\"references\":[{\"attributes\":{\"callback\":null,\"column_names\":[\"y\",\"x\"],\"data\":{\"x\":[1,2],\"y\":[3,4]}},\"id\":\"1038\",\"type\":\"ColumnDataSource\"},{\"attributes\":{\"fill_color\":{\"value\":\"#1f77b4\"},\"line_color\":{\"value\":\"#1f77b4\"},\"x\":{\"field\":\"x\"},\"y\":{\"field\":\"y\"}},\"id\":\"1039\",\"type\":\"Circle\"},{\"attributes\":{\"callback\":null},\"id\":\"1018\",\"type\":\"DataRange1d\"},{\"attributes\":{\"callback\":null},\"id\":\"1019\",\"type\":\"DataRange1d\"},{\"attributes\":{\"overlay\":{\"id\":\"1036\",\"type\":\"BoxAnnotation\"},\"plot\":{\"id\":\"1017\",\"subtype\":\"Figure\",\"type\":\"Plot\"}},\"id\":\"1032\",\"type\":\"BoxZoomTool\"},{\"attributes\":{\"plot\":{\"id\":\"1017\",\"subtype\":\"Figure\",\"type\":\"Plot\"}},\"id\":\"1033\",\"type\":\"SaveTool\"},{\"attributes\":{\"active_drag\":\"auto\",\"active_inspect\":\"auto\",\"active_scroll\":\"auto\",\"active_tap\":\"auto\",\"tools\":[{\"id\":\"1030\",\"type\":\"PanTool\"},{\"id\":\"1031\",\"type\":\"WheelZoomTool\"},{\"id\":\"1032\",\"type\":\"BoxZoomTool\"},{\"id\":\"1033\",\"type\":\"SaveTool\"},{\"id\":\"1034\",\"type\":\"ResetTool\"},{\"id\":\"1035\",\"type\":\"HelpTool\"}]},\"id\":\"1016\",\"type\":\"Toolbar\"},{\"attributes\":{\"plot\":{\"id\":\"1017\",\"subtype\":\"Figure\",\"type\":\"Plot\"}},\"id\":\"1031\",\"type\":\"WheelZoomTool\"},{\"attributes\":{\"bottom_units\":\"screen\",\"fill_alpha\":{\"value\":0.5},\"fill_color\":{\"value\":\"lightgrey\"},\"left_units\":\"screen\",\"level\":\"overlay\",\"line_alpha\":{\"value\":1.0},\"line_color\":{\"value\":\"black\"},\"line_dash\":[4,4],\"line_width\":{\"value\":2},\"plot\":null,\"render_mode\":\"css\",\"right_units\":\"screen\",\"top_units\":\"screen\"},\"id\":\"1036\",\"type\":\"BoxAnnotation\"},{\"attributes\":{\"plot\":{\"id\":\"1017\",\"subtype\":\"Figure\",\"type\":\"Plot\"}},\"id\":\"1034\",\"type\":\"ResetTool\"},{\"attributes\":{\"plot\":{\"id\":\"1017\",\"subtype\":\"Figure\",\"type\":\"Plot\"}},\"id\":\"1035\",\"type\":\"HelpTool\"},{\"attributes\":{\"plot\":null,\"text\":\"\"},\"id\":\"1042\",\"type\":\"Title\"},{\"attributes\":{\"fill_alpha\":{\"value\":0.1},\"fill_color\":{\"value\":\"#1f77b4\"},\"line_alpha\":{\"value\":0.1},\"line_color\":{\"value\":\"#1f77b4\"},\"x\":{\"field\":\"x\"},\"y\":{\"field\":\"y\"}},\"id\":\"1040\",\"type\":\"Circle\"},{\"attributes\":{},\"id\":\"1015\",\"type\":\"ToolEvents\"},{\"attributes\":{\"plot\":{\"id\":\"1017\",\"subtype\":\"Figure\",\"type\":\"Plot\"}},\"id\":\"1030\",\"type\":\"PanTool\"},{\"attributes\":{\"formatter\":{\"id\":\"1044\",\"type\":\"BasicTickFormatter\"},\"plot\":{\"id\":\"1017\",\"subtype\":\"Figure\",\"type\":\"Plot\"},\"ticker\":{\"id\":\"1021\",\"type\":\"BasicTicker\"}},\"id\":\"1020\",\"type\":\"LinearAxis\"},{\"attributes\":{\"formatter\":{\"id\":\"1046\",\"type\":\"BasicTickFormatter\"},\"plot\":{\"id\":\"1017\",\"subtype\":\"Figure\",\"type\":\"Plot\"},\"ticker\":{\"id\":\"1026\",\"type\":\"BasicTicker\"}},\"id\":\"1025\",\"type\":\"LinearAxis\"},{\"attributes\":{\"plot\":{\"id\":\"1017\",\"subtype\":\"Figure\",\"type\":\"Plot\"},\"ticker\":{\"id\":\"1021\",\"type\":\"BasicTicker\"}},\"id\":\"1024\",\"type\":\"Grid\"},{\"attributes\":{\"data_source\":{\"id\":\"1038\",\"type\":\"ColumnDataSource\"},\"glyph\":{\"id\":\"1039\",\"type\":\"Circle\"},\"hover_glyph\":null,\"muted_glyph\":null,\"nonselection_glyph\":{\"id\":\"1040\",\"type\":\"Circle\"},\"selection_glyph\":null},\"id\":\"1041\",\"type\":\"GlyphRenderer\"},{\"attributes\":{},\"id\":\"1026\",\"type\":\"BasicTicker\"},{\"attributes\":{},\"id\":\"1021\",\"type\":\"BasicTicker\"},{\"attributes\":{},\"id\":\"1046\",\"type\":\"BasicTickFormatter\"},{\"attributes\":{},\"id\":\"1044\",\"type\":\"BasicTickFormatter\"},{\"attributes\":{\"dimension\":1,\"plot\":{\"id\":\"1017\",\"subtype\":\"Figure\",\"type\":\"Plot\"},\"ticker\":{\"id\":\"1026\",\"type\":\"BasicTicker\"}},\"id\":\"1029\",\"type\":\"Grid\"},{\"attributes\":{\"below\":[{\"id\":\"1020\",\"type\":\"LinearAxis\"}],\"left\":[{\"id\":\"1025\",\"type\":\"LinearAxis\"}],\"renderers\":[{\"id\":\"1020\",\"type\":\"LinearAxis\"},{\"id\":\"1024\",\"type\":\"Grid\"},{\"id\":\"1025\",\"type\":\"LinearAxis\"},{\"id\":\"1029\",\"type\":\"Grid\"},{\"id\":\"1036\",\"type\":\"BoxAnnotation\"},{\"id\":\"1041\",\"type\":\"GlyphRenderer\"}],\"sizing_mode\":\"scale_width\",\"title\":{\"id\":\"1042\",\"type\":\"Title\"},\"tool_events\":{\"id\":\"1015\",\"type\":\"ToolEvents\"},\"toolbar\":{\"id\":\"1016\",\"type\":\"Toolbar\"},\"x_range\":{\"id\":\"1018\",\"type\":\"DataRange1d\"},\"y_range\":{\"id\":\"1019\",\"type\":\"DataRange1d\"}},\"id\":\"1017\",\"subtype\":\"Figure\",\"type\":\"Plot\"}],\"root_ids\":[\"1017\"]},\"title\":\"Bokeh Application\",\"version\":\"0.12.6dev3-50-g07db421\"}};\n",
    "      var render_items = [{\"docid\":\"1054\",\"elementid\":\"1055\",\"modelid\":\"1017\"}];\n",
    "      \n",
    "      Bokeh.embed.embed_items(docs_json, render_items);\n",
    "    });\n",
    "  };\n",
    "  if (document.readyState != \"loading\") fn();\n",
    "  else document.addEventListener(\"DOMContentLoaded\", fn);\n",
    "})();\n",
    "\n",
    "</script>\"\"\"\n"
   ]
  },
  {
   "cell_type": "code",
   "execution_count": 42,
   "metadata": {
    "collapsed": true
   },
   "outputs": [],
   "source": [
    "load_bokeh_script = \"\"\"/* added by interactive keynote */\n",
    "<script\n",
    "  src=\"https://code.jquery.com/jquery-3.2.1.min.js\"\n",
    "  integrity=\"sha256-hwg4gsxgFZhOsEEamdOYGBf13FyQuiTwlAQgxVSNgt4=\"\n",
    "  crossorigin=\"anonymous\"></script>\n",
    "<link rel=\"stylesheet\" href=\"../../../bokehjs0_12_6/bokeh.css\" type=\"text/css\" />\n",
    "<script type=\"text/javascript\" src=\"../../../bokehjs0_12_6/bokeh.js\"></script>\n",
    "<script type=\"text/javascript\">Bokeh.set_log_level(\"info\");</script>\n",
    "<script type=\"text/javascript\" src=\"../../../make_bokeh_plot.js\"></script>\n",
    "/* end added by interactive keynote */\n",
    "\"\"\"\n",
    "\n"
   ]
  },
  {
   "cell_type": "code",
   "execution_count": 52,
   "metadata": {
    "collapsed": true
   },
   "outputs": [],
   "source": [
    "div = \"\"\"<div class=\"bk-root\">\n",
    "    <div class=\"bk-plotdiv\" id=\"1055\"></div>\n",
    "</div>\"\"\""
   ]
  },
  {
   "cell_type": "code",
   "execution_count": null,
   "metadata": {
    "collapsed": true
   },
   "outputs": [],
   "source": []
  },
  {
   "cell_type": "code",
   "execution_count": 53,
   "metadata": {
    "collapsed": false
   },
   "outputs": [
    {
     "data": {
      "text/plain": [
       "'<foreignObject x=\\\\\"200\\\\\" y=\\\\\"200\\\\\" width=\\\\\"400\\\\\" height=\\\\\"400\\\\\"><body xmlns=\\\\\"http://www.w3.org/1999/xhtml\\\\\" id=\\\\\"bokeh_body\\\\\"><div class=\\\\\"bk-root\\\\\">     <div class=\\\\\"bk-plotdiv\\\\\" id=\\\\\"1055\\\\\"></div> </div></body></foreignObject>'"
      ]
     },
     "execution_count": 53,
     "metadata": {},
     "output_type": "execute_result"
    }
   ],
   "source": [
    "fo_txt = '<foreignObject x=\"200\" y=\"200\" width=\"400\" height=\"400\"><body id=\"bokeh_body\">' + div + '</body></foreignObject>'\n",
    "fo_txt = clean_fo(fo_txt)\n",
    "fo_txt"
   ]
  },
  {
   "cell_type": "code",
   "execution_count": 54,
   "metadata": {
    "collapsed": false
   },
   "outputs": [
    {
     "name": "stdout",
     "output_type": "stream",
     "text": [
      "local_svg( {\"name\":\"E10BB10BE922392D45A33BD92B9BC651\",\"slide\":\"615F7CD4-E262-41F7-8138-806EC6AB1FAB\",\"svg\":\"<?xml version=\\\"1.0\\\" encoding=\\\"UTF-8\\\" standalone=\\\"no\\\"?><svg xmlns=\\\"http://www.w3.org/2000/svg\\\" xmlns:xlink=\\\"http://www.w3.org/1999/xlink\\\" clip-rule=\\\"evenodd\\\" stroke-miterlimit=\\\"4.00\\\" viewBox=\\\"0 0 1024 768\\\"><desc>SVG generated by Keynote</desc><defs><pattern id=\\\"7C5CE914-A31F-4C48-B034-FE7D244870D7\\\" patternUnits=\\\"userSpaceOnUse\\\" width=\\\"325\\\" height=\\\"325\\\" viewBox=\\\"0 0 325 325\\\" patternTransform=\\\"matrix(0.923077, 0.000000, 0.000000, -0.923077, 676.000000, 514.000000)\\\"><image xlink:href=\\\"4E19BA5B5AAEEE873DD2E78EC2A1210A.jpeg\\\" width=\\\"325.00\\\" height=\\\"325.00\\\"></image></pattern></defs><g transform=\\\"matrix(1.00, 0.00, -0.00, -1.00, 0.0, 768.0)\\\"><path d=\\\"M 0.0 768.0 L 1024.0 768.0 L 1024.0 0.0 L 0.0 0.0 Z M 0.0 768.0 \\\" fill=\\\"#FEFFFF\\\"></path><text xml:space=\\\"preserve\\\" font-family=\\\"Helvetica-Light\\\" font-size=\\\"80.0\\\" fill=\\\"#000000\\\" transform=\\\"matrix(1.00, 0.00, -0.00, -1.00, 368.0, 401.0)\\\">M</text><text xml:space=\\\"preserve\\\" font-family=\\\"Helvetica-Light\\\" font-size=\\\"80.0\\\" fill=\\\"#000000\\\" transform=\\\"matrix(1.00, 0.00, -0.00, -1.00, 434.6, 401.0)\\\">y</text><text xml:space=\\\"preserve\\\" font-family=\\\"Helvetica-Light\\\" font-size=\\\"80.0\\\" fill=\\\"#000000\\\" transform=\\\"matrix(1.00, 0.00, -0.00, -1.00, 474.6, 401.0)\\\"> </text><text xml:space=\\\"preserve\\\" font-family=\\\"Helvetica-Light\\\" font-size=\\\"80.0\\\" fill=\\\"#000000\\\" transform=\\\"matrix(1.00, 0.00, -0.00, -1.00, 496.9, 401.0)\\\">p</text><text xml:space=\\\"preserve\\\" font-family=\\\"Helvetica-Light\\\" font-size=\\\"80.0\\\" fill=\\\"#000000\\\" transform=\\\"matrix(1.00, 0.00, -0.00, -1.00, 545.8, 401.0)\\\">r</text><text xml:space=\\\"preserve\\\" font-family=\\\"Helvetica-Light\\\" font-size=\\\"80.0\\\" fill=\\\"#000000\\\" transform=\\\"matrix(1.00, 0.00, -0.00, -1.00, 571.0, 401.0)\\\">e</text><text xml:space=\\\"preserve\\\" font-family=\\\"Helvetica-Light\\\" font-size=\\\"80.0\\\" fill=\\\"#000000\\\" transform=\\\"matrix(1.00, 0.00, -0.00, -1.00, 615.4, 401.0)\\\">s</text><foreignObject x=\\\"200\\\" y=\\\"200\\\" width=\\\"400\\\" height=\\\"400\\\"><body xmlns=\\\"http://www.w3.org/1999/xhtml\\\" id=\\\"bokeh_body\\\"><div class=\\\"bk-root\\\">     <div class=\\\"bk-plotdiv\\\" id=\\\"1055\\\"></div> </div></body></foreignObject><image xlink:href=\\\"845F83EA83123759497600E1D73BEC26.png\\\" width=\\\"314.00\\\" height=\\\"330.00\\\" transform=\\\"matrix(1.00, 0.00, -0.00, -1.00, 673.0, 515.0)\\\" opacity=\\\"0.50\\\"></image><g><clipPath id=\\\"clip-6\\\"><path d=\\\"M 676.0 514.0 L 984.3 514.0 L 984.3 189.9 L 676.0 189.9 Z M 676.0 514.0 \\\"></path></clipPath><g clip-path=\\\"url(#clip-6)\\\"><path d=\\\"M 676.0 189.9 L 984.3 189.9 L 984.3 514.0 L 676.0 514.0 Z M 676.0 189.9 \\\" fill=\\\"url(#7C5CE914-A31F-4C48-B034-FE7D244870D7)\\\"></path><path d=\\\"M 676.0 514.0 L 984.3 514.0 L 984.3 189.9 L 676.0 189.9 Z M 676.0 514.0 \\\" fill=\\\"#009BFC\\\" fill-opacity=\\\"0.50\\\"></path></g></g><g><clipPath id=\\\"clip-7\\\"><path d=\\\"M 674.0 189.9 L 986.3 189.9 L 986.3 514.0 L 674.0 514.0 Z M 674.0 189.9 \\\"></path></clipPath><g clip-path=\\\"url(#clip-7)\\\"><text xml:space=\\\"preserve\\\" font-family=\\\"Helvetica-Light\\\" font-size=\\\"24.0\\\" fill=\\\"#FEFFFE\\\" transform=\\\"matrix(1.00, 0.00, -0.00, -1.00, 817.0, 343.0)\\\">≠</text><text xml:space=\\\"preserve\\\" font-family=\\\"Helvetica-Light\\\" font-size=\\\"24.0\\\" fill=\\\"#FEFFFE\\\" transform=\\\"matrix(1.00, 0.00, -0.00, -1.00, 830.6, 343.0)\\\">1</text></g></g></g></svg>\"} )\n"
     ]
    }
   ],
   "source": [
    "svgp_fname = target + 'assets/615F7CD4-E262-41F7-8138-806EC6AB1FAB/assets/E10BB10BE922392D45A33BD92B9BC651.svgp'\n",
    "add_text_to_file(svgp_fname, fo_txt, '<image xlink:href=\\\\\"845F')"
   ]
  },
  {
   "cell_type": "code",
   "execution_count": 45,
   "metadata": {
    "collapsed": false
   },
   "outputs": [
    {
     "name": "stdout",
     "output_type": "stream",
     "text": [
      "<!DOCTYPE html>\n",
      "<html xmlns=\"http://www.w3.org/1999/xhtml\">\n",
      "    <head>\n",
      "        <title>Keynote</title>\n",
      "        <link href=\"KeynoteDHTMLPlayer.css\" rel=\"stylesheet\" type=\"text/css\" media=\"screen\"/>\n",
      "        <meta name=\"viewport\" content=\"initial-scale = 1.0, minimum-scale = 1.0, maximum-scale = 1.0, user-scalable = no, width = device-width\" />\n",
      "        <meta http-equiv=\"Content-Type\" content=\"text/html; charset=UTF-8\" />\n",
      "        <link rel=\"stylesheet\" href=\"../../../bokehjs0_12_6/bokeh.css\" type=\"text/css\" />\n",
      "<script type=\"text/javascript\" src=\"../../../bokehjs0_12_6/bokeh.js\"></script>\n",
      "<script type=\"text/javascript\">Bokeh.set_log_level(\"info\");</script>\n",
      "<script type=\"text/javascript\" src=\"../../../make_bokeh_plot.js\"></script>\n",
      "<script type=\"text/javascript\" src=\"prototype.js\"></script>\n",
      "        <script type=\"text/javascript\" src=\"DebuggingSupport.js\"></script>\n",
      "        <script type=\"text/javascript\" src=\"string.js\"></script>\n",
      "        <script type=\"text/javascript\" src=\"Utilities.js\"></script>\n",
      "        <script type=\"text/javascript\" src=\"KeynoteDHTMLPlayer.js\"></script>\n",
      "        <script type=\"text/javascript\" src=\"ShowController.js\"></script>\n",
      "        <script type=\"text/javascript\" src=\"TouchController.js\"></script>\n",
      "        <script type=\"text/javascript\" src=\"DisplayManager.js\"></script>\n",
      "        <script type=\"text/javascript\" src=\"StageManager.js\"></script>\n",
      "        <script type=\"text/javascript\" src=\"AnimationManager.js\"></script>\n",
      "        <script type=\"text/javascript\" src=\"TextureManager.js\"></script>\n",
      "        <script type=\"text/javascript\" src=\"ScriptManager.js\"></script>\n",
      "        <script type=\"text/javascript\" src=\"OrientationController.js\"></script>\n",
      "        <script type=\"text/javascript\" src=\"KPFObjects.js\"></script>\n",
      "        <script type=\"text/javascript\" src=\"SlideManager.js\"></script>\n",
      "        <script type=\"text/javascript\" src=\"NavigatorController.js\"></script>\n",
      "        <script type=\"text/javascript\" src=\"SlideNumberController.js\"></script>\n",
      "        <script type=\"text/javascript\" src=\"HelpPlacardController.js\"></script>\n",
      "        <script type=\"text/javascript\" src=\"NarrationManager.js\"></script>\n",
      "\t</head>\n",
      "    <body id=\"body\" bgcolor=\"black\">\n",
      "        <div id=\"background\" class=\"bigBlackSquare\">\n",
      "        </div>\n",
      "        <div id=\"previousButton\" class=\"PreviousButtonDisabled\">\n",
      "        </div>\n",
      "        <div id=\"nextButton\" class=\"nextButtonDisabled\">\n",
      "        </div>\n",
      "        <div id=\"slideCounter\">\n",
      "        </div>\n",
      "        <span id=\"helpText\"></span>\n",
      "        <div id=\"stageArea\">\n",
      "            <div id=\"stage\" class=\"stage\">\n",
      "            </div>\n",
      "            <div id=\"hyperlinkPlane\" class=\"stage\">\n",
      "            </div>\n",
      "        </div>\n",
      "        <div id=\"slideshowNavigator\">\n",
      "        </div>\n",
      "        <div id=\"slideNumberControl\">\n",
      "        </div>\n",
      "        <div id=\"slideNumberDisplay\">\n",
      "        </div>\n",
      "        <div id=\"helpPlacard\">\n",
      "        </div>\n",
      "        <div id=\"waitingIndicator\">\n",
      "        \t<div id=\"waitingSpinner\">\n",
      "        \t</div>\n",
      "        </div>\n",
      "\t</body>\n",
      "</html>\n"
     ]
    }
   ],
   "source": [
    "html_fname = target + 'assets/player/KeynoteDHTMLPlayer.html'\n",
    "before_html = '<script type=\"text/javascript\" src=\"prototype.js\"></script>'\n",
    "add_text_to_file(html_fname, load_bokeh_script, before_html)"
   ]
  },
  {
   "cell_type": "code",
   "execution_count": 63,
   "metadata": {
    "collapsed": false
   },
   "outputs": [],
   "source": [
    "import interactive_keynote\n",
    "from bokeh.plotting import figure\n",
    "from bokeh.embed import components"
   ]
  },
  {
   "cell_type": "code",
   "execution_count": 64,
   "metadata": {
    "collapsed": true
   },
   "outputs": [],
   "source": [
    "plot_dict = {}\n",
    "\n",
    "plot = figure(responsive=True)\n",
    "plot.circle([1,2], [3,4])\n",
    "\n",
    "plot_dict['≠1'] = components(plot)"
   ]
  },
  {
   "cell_type": "code",
   "execution_count": 85,
   "metadata": {
    "collapsed": false
   },
   "outputs": [
    {
     "name": "stdout",
     "output_type": "stream",
     "text": [
      "<!DOCTYPE html>\n",
      "<html xmlns=\"http://www.w3.org/1999/xhtml\">\n",
      "    <head>\n",
      "        <title>Keynote</title>\n",
      "        <link href=\"KeynoteDHTMLPlayer.css\" rel=\"stylesheet\" type=\"text/css\" media=\"screen\"/>\n",
      "        <meta name=\"viewport\" content=\"initial-scale = 1.0, minimum-scale = 1.0, maximum-scale = 1.0, user-scalable = no, width = device-width\" />\n",
      "        <meta http-equiv=\"Content-Type\" content=\"text/html; charset=UTF-8\" />\n",
      "        /* added by interactive keynote */\n",
      "<script\n",
      "  src=\"https://code.jquery.com/jquery-3.2.1.min.js\"\n",
      "  integrity=\"sha256-hwg4gsxgFZhOsEEamdOYGBf13FyQuiTwlAQgxVSNgt4=\"\n",
      "  crossorigin=\"anonymous\"></script>\n",
      "<link rel=\"stylesheet\" href=\"../../../bokehjs0_12_6/bokeh.css\" type=\"text/css\" />\n",
      "<script type=\"text/javascript\" src=\"../../../bokehjs0_12_6/bokeh.js\"></script>\n",
      "<script type=\"text/javascript\">Bokeh.set_log_level(\"info\");</script>\n",
      "<script type=\"text/javascript\" src=\"add_bokeh_plots.js\"></script>\n",
      "/* end added by interactive keynote */\n",
      "<script type=\"text/javascript\" src=\"prototype.js\"></script>\n",
      "        <script type=\"text/javascript\" src=\"DebuggingSupport.js\"></script>\n",
      "        <script type=\"text/javascript\" src=\"string.js\"></script>\n",
      "        <script type=\"text/javascript\" src=\"Utilities.js\"></script>\n",
      "        <script type=\"text/javascript\" src=\"KeynoteDHTMLPlayer.js\"></script>\n",
      "        <script type=\"text/javascript\" src=\"ShowController.js\"></script>\n",
      "        <script type=\"text/javascript\" src=\"TouchController.js\"></script>\n",
      "        <script type=\"text/javascript\" src=\"DisplayManager.js\"></script>\n",
      "        <script type=\"text/javascript\" src=\"StageManager.js\"></script>\n",
      "        <script type=\"text/javascript\" src=\"AnimationManager.js\"></script>\n",
      "        <script type=\"text/javascript\" src=\"TextureManager.js\"></script>\n",
      "        <script type=\"text/javascript\" src=\"ScriptManager.js\"></script>\n",
      "        <script type=\"text/javascript\" src=\"OrientationController.js\"></script>\n",
      "        <script type=\"text/javascript\" src=\"KPFObjects.js\"></script>\n",
      "        <script type=\"text/javascript\" src=\"SlideManager.js\"></script>\n",
      "        <script type=\"text/javascript\" src=\"NavigatorController.js\"></script>\n",
      "        <script type=\"text/javascript\" src=\"SlideNumberController.js\"></script>\n",
      "        <script type=\"text/javascript\" src=\"HelpPlacardController.js\"></script>\n",
      "        <script type=\"text/javascript\" src=\"NarrationManager.js\"></script>\n",
      "\t</head>\n",
      "    <body id=\"body\" bgcolor=\"black\">\n",
      "        <div id=\"background\" class=\"bigBlackSquare\">\n",
      "        </div>\n",
      "        <div id=\"previousButton\" class=\"PreviousButtonDisabled\">\n",
      "        </div>\n",
      "        <div id=\"nextButton\" class=\"nextButtonDisabled\">\n",
      "        </div>\n",
      "        <div id=\"slideCounter\">\n",
      "        </div>\n",
      "        <span id=\"helpText\"></span>\n",
      "        <div id=\"stageArea\">\n",
      "            <div id=\"stage\" class=\"stage\">\n",
      "            </div>\n",
      "            <div id=\"hyperlinkPlane\" class=\"stage\">\n",
      "            </div>\n",
      "        </div>\n",
      "        <div id=\"slideshowNavigator\">\n",
      "        </div>\n",
      "        <div id=\"slideNumberControl\">\n",
      "        </div>\n",
      "        <div id=\"slideNumberDisplay\">\n",
      "        </div>\n",
      "        <div id=\"helpPlacard\">\n",
      "        </div>\n",
      "        <div id=\"waitingIndicator\">\n",
      "        \t<div id=\"waitingSpinner\">\n",
      "        \t</div>\n",
      "        </div>\n",
      "\t</body>\n",
      "</html>\n",
      "var fn = function() {\n",
      "    Bokeh.safely(function() {\n",
      "      \n",
      "        /* unique plot code here */\n",
      "        \n",
      "        var docs_json = {\"ff84b283-a903-4474-bdee-d083dcd32437\":{\"roots\":{\"references\":[{\"attributes\":{},\"id\":\"411dd390-9db8-4b1e-8426-070bde2a02f7\",\"type\":\"BasicTicker\"},{\"attributes\":{\"plot\":{\"id\":\"c25bf730-aa16-4ac1-bc5f-2e8ba067469c\",\"subtype\":\"Figure\",\"type\":\"Plot\"}},\"id\":\"cbf464e6-0d8b-4eaa-a9c3-1d299cdf7f6b\",\"type\":\"SaveTool\"},{\"attributes\":{\"active_drag\":\"auto\",\"active_scroll\":\"auto\",\"active_tap\":\"auto\",\"tools\":[{\"id\":\"829927f6-da87-4069-8143-9f94e39c4fa1\",\"type\":\"PanTool\"},{\"id\":\"35dcc053-ce10-4d8b-ac13-13b1281fa868\",\"type\":\"WheelZoomTool\"},{\"id\":\"fc4ad9bb-77a2-4d5f-8677-0d31252cfce4\",\"type\":\"BoxZoomTool\"},{\"id\":\"cbf464e6-0d8b-4eaa-a9c3-1d299cdf7f6b\",\"type\":\"SaveTool\"},{\"id\":\"7c1b3348-53e1-4ebb-813b-6cbe7bb65a7d\",\"type\":\"ResetTool\"},{\"id\":\"cab26857-81d5-4404-8bfd-3ede2498eb2f\",\"type\":\"HelpTool\"}]},\"id\":\"329ed83d-1726-48af-93d2-d179553bec85\",\"type\":\"Toolbar\"},{\"attributes\":{\"line_color\":{\"value\":\"#1f77b4\"},\"line_width\":{\"value\":2},\"x\":{\"field\":\"x\"},\"y\":{\"field\":\"y\"}},\"id\":\"1905ce68-63df-42eb-be3b-817ab887a951\",\"type\":\"Line\"},{\"attributes\":{},\"id\":\"61c675ae-1171-4013-95cd-e08540d73581\",\"type\":\"ToolEvents\"},{\"attributes\":{\"axis_label\":\"x\",\"formatter\":{\"id\":\"78f7af56-fcfc-45c9-9156-f1cfb9f89164\",\"type\":\"BasicTickFormatter\"},\"plot\":{\"id\":\"c25bf730-aa16-4ac1-bc5f-2e8ba067469c\",\"subtype\":\"Figure\",\"type\":\"Plot\"},\"ticker\":{\"id\":\"5869f9a4-2bb1-47a5-ad90-1a2da7a14833\",\"type\":\"BasicTicker\"}},\"id\":\"6f5b9596-f4ce-460f-abce-3340416f9774\",\"type\":\"LinearAxis\"},{\"attributes\":{\"data_source\":{\"id\":\"92ff37f3-ecfd-4b53-b0f7-1a78dbc3bbc2\",\"type\":\"ColumnDataSource\"},\"glyph\":{\"id\":\"1905ce68-63df-42eb-be3b-817ab887a951\",\"type\":\"Line\"},\"hover_glyph\":null,\"nonselection_glyph\":{\"id\":\"39c54b6d-bf2e-40fb-9c25-42b37fa79d59\",\"type\":\"Line\"},\"selection_glyph\":null},\"id\":\"11ebacb3-14ea-4bba-a603-0e4b52de3447\",\"type\":\"GlyphRenderer\"},{\"attributes\":{\"plot\":{\"id\":\"c25bf730-aa16-4ac1-bc5f-2e8ba067469c\",\"subtype\":\"Figure\",\"type\":\"Plot\"}},\"id\":\"35dcc053-ce10-4d8b-ac13-13b1281fa868\",\"type\":\"WheelZoomTool\"},{\"attributes\":{\"callback\":null},\"id\":\"4b61c918-9ba1-493f-b06e-7f250ae93ad9\",\"type\":\"DataRange1d\"},{\"attributes\":{\"dimension\":1,\"plot\":{\"id\":\"c25bf730-aa16-4ac1-bc5f-2e8ba067469c\",\"subtype\":\"Figure\",\"type\":\"Plot\"},\"ticker\":{\"id\":\"411dd390-9db8-4b1e-8426-070bde2a02f7\",\"type\":\"BasicTicker\"}},\"id\":\"c47a4d9f-dca5-4379-82b0-eea518a12c52\",\"type\":\"Grid\"},{\"attributes\":{\"callback\":null,\"column_names\":[\"x\",\"y\"],\"data\":{\"x\":[1,2,3,4,5],\"y\":[6,7,2,4,5]}},\"id\":\"92ff37f3-ecfd-4b53-b0f7-1a78dbc3bbc2\",\"type\":\"ColumnDataSource\"},{\"attributes\":{},\"id\":\"5869f9a4-2bb1-47a5-ad90-1a2da7a14833\",\"type\":\"BasicTicker\"},{\"attributes\":{\"plot\":{\"id\":\"c25bf730-aa16-4ac1-bc5f-2e8ba067469c\",\"subtype\":\"Figure\",\"type\":\"Plot\"}},\"id\":\"829927f6-da87-4069-8143-9f94e39c4fa1\",\"type\":\"PanTool\"},{\"attributes\":{\"plot\":null,\"text\":\"simple line example\"},\"id\":\"5d54c49a-55c7-4ff5-baba-5d8c6b9f20e3\",\"type\":\"Title\"},{\"attributes\":{\"legends\":[[\"Temp.\",[{\"id\":\"11ebacb3-14ea-4bba-a603-0e4b52de3447\",\"type\":\"GlyphRenderer\"}]]],\"plot\":{\"id\":\"c25bf730-aa16-4ac1-bc5f-2e8ba067469c\",\"subtype\":\"Figure\",\"type\":\"Plot\"}},\"id\":\"c518446d-18c7-44f5-ab7d-55f15e6dc260\",\"type\":\"Legend\"},{\"attributes\":{\"callback\":null},\"id\":\"28ce249f-5f95-4ba5-9285-f6a247d83940\",\"type\":\"DataRange1d\"},{\"attributes\":{\"plot\":{\"id\":\"c25bf730-aa16-4ac1-bc5f-2e8ba067469c\",\"subtype\":\"Figure\",\"type\":\"Plot\"}},\"id\":\"7c1b3348-53e1-4ebb-813b-6cbe7bb65a7d\",\"type\":\"ResetTool\"},{\"attributes\":{\"plot\":{\"id\":\"c25bf730-aa16-4ac1-bc5f-2e8ba067469c\",\"subtype\":\"Figure\",\"type\":\"Plot\"},\"ticker\":{\"id\":\"5869f9a4-2bb1-47a5-ad90-1a2da7a14833\",\"type\":\"BasicTicker\"}},\"id\":\"a55964c1-a8f0-4f3f-af60-12212d505f81\",\"type\":\"Grid\"},{\"attributes\":{},\"id\":\"e288a461-cbeb-4572-ab44-e94a15cae2d2\",\"type\":\"BasicTickFormatter\"},{\"attributes\":{\"overlay\":{\"id\":\"a2527ce1-83ab-4c86-ad64-55e27db89588\",\"type\":\"BoxAnnotation\"},\"plot\":{\"id\":\"c25bf730-aa16-4ac1-bc5f-2e8ba067469c\",\"subtype\":\"Figure\",\"type\":\"Plot\"}},\"id\":\"fc4ad9bb-77a2-4d5f-8677-0d31252cfce4\",\"type\":\"BoxZoomTool\"},{\"attributes\":{\"axis_label\":\"y\",\"formatter\":{\"id\":\"e288a461-cbeb-4572-ab44-e94a15cae2d2\",\"type\":\"BasicTickFormatter\"},\"plot\":{\"id\":\"c25bf730-aa16-4ac1-bc5f-2e8ba067469c\",\"subtype\":\"Figure\",\"type\":\"Plot\"},\"ticker\":{\"id\":\"411dd390-9db8-4b1e-8426-070bde2a02f7\",\"type\":\"BasicTicker\"}},\"id\":\"370fb4b1-d953-4591-b5b0-78022272cbf8\",\"type\":\"LinearAxis\"},{\"attributes\":{\"line_alpha\":{\"value\":0.1},\"line_color\":{\"value\":\"#1f77b4\"},\"line_width\":{\"value\":2},\"x\":{\"field\":\"x\"},\"y\":{\"field\":\"y\"}},\"id\":\"39c54b6d-bf2e-40fb-9c25-42b37fa79d59\",\"type\":\"Line\"},{\"attributes\":{\"plot\":{\"id\":\"c25bf730-aa16-4ac1-bc5f-2e8ba067469c\",\"subtype\":\"Figure\",\"type\":\"Plot\"}},\"id\":\"cab26857-81d5-4404-8bfd-3ede2498eb2f\",\"type\":\"HelpTool\"},{\"attributes\":{\"bottom_units\":\"screen\",\"fill_alpha\":{\"value\":0.5},\"fill_color\":{\"value\":\"lightgrey\"},\"left_units\":\"screen\",\"level\":\"overlay\",\"line_alpha\":{\"value\":1.0},\"line_color\":{\"value\":\"black\"},\"line_dash\":[4,4],\"line_width\":{\"value\":2},\"plot\":null,\"render_mode\":\"css\",\"right_units\":\"screen\",\"top_units\":\"screen\"},\"id\":\"a2527ce1-83ab-4c86-ad64-55e27db89588\",\"type\":\"BoxAnnotation\"},{\"attributes\":{},\"id\":\"78f7af56-fcfc-45c9-9156-f1cfb9f89164\",\"type\":\"BasicTickFormatter\"},{\"attributes\":{\"below\":[{\"id\":\"6f5b9596-f4ce-460f-abce-3340416f9774\",\"type\":\"LinearAxis\"}],\"left\":[{\"id\":\"370fb4b1-d953-4591-b5b0-78022272cbf8\",\"type\":\"LinearAxis\"}],\"renderers\":[{\"id\":\"6f5b9596-f4ce-460f-abce-3340416f9774\",\"type\":\"LinearAxis\"},{\"id\":\"a55964c1-a8f0-4f3f-af60-12212d505f81\",\"type\":\"Grid\"},{\"id\":\"370fb4b1-d953-4591-b5b0-78022272cbf8\",\"type\":\"LinearAxis\"},{\"id\":\"c47a4d9f-dca5-4379-82b0-eea518a12c52\",\"type\":\"Grid\"},{\"id\":\"a2527ce1-83ab-4c86-ad64-55e27db89588\",\"type\":\"BoxAnnotation\"},{\"id\":\"c518446d-18c7-44f5-ab7d-55f15e6dc260\",\"type\":\"Legend\"},{\"id\":\"11ebacb3-14ea-4bba-a603-0e4b52de3447\",\"type\":\"GlyphRenderer\"}],\"sizing_mode\":\"scale_width\",\"title\":{\"id\":\"5d54c49a-55c7-4ff5-baba-5d8c6b9f20e3\",\"type\":\"Title\"},\"tool_events\":{\"id\":\"61c675ae-1171-4013-95cd-e08540d73581\",\"type\":\"ToolEvents\"},\"toolbar\":{\"id\":\"329ed83d-1726-48af-93d2-d179553bec85\",\"type\":\"Toolbar\"},\"x_range\":{\"id\":\"28ce249f-5f95-4ba5-9285-f6a247d83940\",\"type\":\"DataRange1d\"},\"y_range\":{\"id\":\"4b61c918-9ba1-493f-b06e-7f250ae93ad9\",\"type\":\"DataRange1d\"}},\"id\":\"c25bf730-aa16-4ac1-bc5f-2e8ba067469c\",\"subtype\":\"Figure\",\"type\":\"Plot\"}],\"root_ids\":[\"c25bf730-aa16-4ac1-bc5f-2e8ba067469c\"]},\"title\":\"Bokeh Application\",\"version\":\"0.12.2\"}};\n",
      "        var render_items = [{\"docid\":\"ff84b283-a903-4474-bdee-d083dcd32437\",\"elementid\":\"3a6e7f4f-4e91-4f5a-aecf-9af2308151bb\",\"modelid\":\"c25bf730-aa16-4ac1-bc5f-2e8ba067469c\"}];\n",
      "        \n",
      "        var docs_json = {\"78437bac-754e-4cca-a6ce-6db1e0b24b30\":{\"roots\":{\"references\":[{\"attributes\":{\"data_source\":{\"id\":\"f2f044a0-2779-4c0b-9458-9ee285cd55a1\",\"type\":\"ColumnDataSource\"},\"glyph\":{\"id\":\"3931f9a9-94a1-4589-8ead-addeb84e6968\",\"type\":\"Circle\"},\"hover_glyph\":null,\"muted_glyph\":null,\"nonselection_glyph\":{\"id\":\"62c83231-13fc-465a-b307-959be4de3396\",\"type\":\"Circle\"},\"selection_glyph\":null},\"id\":\"67f551d9-141d-43ef-9620-f12ce0815fe5\",\"type\":\"GlyphRenderer\"},{\"attributes\":{\"callback\":null,\"column_names\":[\"x\",\"y\"],\"data\":{\"x\":[1,2],\"y\":[3,4]}},\"id\":\"f2f044a0-2779-4c0b-9458-9ee285cd55a1\",\"type\":\"ColumnDataSource\"},{\"attributes\":{\"below\":[{\"id\":\"07845e7b-a38a-4c61-9ce2-b6810ffad28f\",\"type\":\"LinearAxis\"}],\"left\":[{\"id\":\"d893a199-86b0-4761-8114-93c43497adf6\",\"type\":\"LinearAxis\"}],\"renderers\":[{\"id\":\"07845e7b-a38a-4c61-9ce2-b6810ffad28f\",\"type\":\"LinearAxis\"},{\"id\":\"0dba4941-34ae-4553-98bf-ec4ddb38ad30\",\"type\":\"Grid\"},{\"id\":\"d893a199-86b0-4761-8114-93c43497adf6\",\"type\":\"LinearAxis\"},{\"id\":\"43ffb357-11a5-4b3d-aa13-a30e1ddbea9e\",\"type\":\"Grid\"},{\"id\":\"9dbfc206-7bb7-4a64-851c-4430fdcf6c41\",\"type\":\"BoxAnnotation\"},{\"id\":\"67f551d9-141d-43ef-9620-f12ce0815fe5\",\"type\":\"GlyphRenderer\"}],\"sizing_mode\":\"scale_width\",\"title\":{\"id\":\"0a436a1d-87be-42fb-840e-b81171379d07\",\"type\":\"Title\"},\"tool_events\":{\"id\":\"1675cb9b-2d7c-4d99-b4fa-e8b49b4c2a0a\",\"type\":\"ToolEvents\"},\"toolbar\":{\"id\":\"f13cfef5-7b4c-453a-8cf6-72f9a8bd1603\",\"type\":\"Toolbar\"},\"x_range\":{\"id\":\"f9ef1fd2-3844-4f36-96c7-8561e74bf7d0\",\"type\":\"DataRange1d\"},\"y_range\":{\"id\":\"3596d4f0-5b57-439b-9ed8-d5e87c8740d3\",\"type\":\"DataRange1d\"}},\"id\":\"1b13fb50-5a76-4aad-9096-03747b2f9765\",\"subtype\":\"Figure\",\"type\":\"Plot\"},{\"attributes\":{},\"id\":\"0f7c805d-d433-40a3-a7fb-1b51f8497110\",\"type\":\"BasicTickFormatter\"},{\"attributes\":{},\"id\":\"da4b397f-b1f5-4f60-bf3e-9681767a6405\",\"type\":\"BasicTickFormatter\"},{\"attributes\":{\"plot\":{\"id\":\"1b13fb50-5a76-4aad-9096-03747b2f9765\",\"subtype\":\"Figure\",\"type\":\"Plot\"}},\"id\":\"46f7d30f-19c6-42d4-beb4-ee8090e13168\",\"type\":\"HelpTool\"},{\"attributes\":{\"plot\":{\"id\":\"1b13fb50-5a76-4aad-9096-03747b2f9765\",\"subtype\":\"Figure\",\"type\":\"Plot\"}},\"id\":\"a656a4ec-06b9-43a0-857a-6efe3701ecbb\",\"type\":\"ResetTool\"},{\"attributes\":{\"plot\":{\"id\":\"1b13fb50-5a76-4aad-9096-03747b2f9765\",\"subtype\":\"Figure\",\"type\":\"Plot\"}},\"id\":\"6e977e29-be41-4ab9-a130-f0ac94211ff2\",\"type\":\"SaveTool\"},{\"attributes\":{\"overlay\":{\"id\":\"9dbfc206-7bb7-4a64-851c-4430fdcf6c41\",\"type\":\"BoxAnnotation\"},\"plot\":{\"id\":\"1b13fb50-5a76-4aad-9096-03747b2f9765\",\"subtype\":\"Figure\",\"type\":\"Plot\"}},\"id\":\"fc2ab2cd-d382-4bd8-bb59-63fbaa2fd1fd\",\"type\":\"BoxZoomTool\"},{\"attributes\":{\"plot\":{\"id\":\"1b13fb50-5a76-4aad-9096-03747b2f9765\",\"subtype\":\"Figure\",\"type\":\"Plot\"}},\"id\":\"7b355d88-cb28-40d8-998f-0f6545a9dcf3\",\"type\":\"WheelZoomTool\"},{\"attributes\":{\"plot\":null,\"text\":\"\"},\"id\":\"0a436a1d-87be-42fb-840e-b81171379d07\",\"type\":\"Title\"},{\"attributes\":{\"plot\":{\"id\":\"1b13fb50-5a76-4aad-9096-03747b2f9765\",\"subtype\":\"Figure\",\"type\":\"Plot\"}},\"id\":\"0628ee99-37ad-437b-aabf-cf7695f317bd\",\"type\":\"PanTool\"},{\"attributes\":{\"bottom_units\":\"screen\",\"fill_alpha\":{\"value\":0.5},\"fill_color\":{\"value\":\"lightgrey\"},\"left_units\":\"screen\",\"level\":\"overlay\",\"line_alpha\":{\"value\":1.0},\"line_color\":{\"value\":\"black\"},\"line_dash\":[4,4],\"line_width\":{\"value\":2},\"plot\":null,\"render_mode\":\"css\",\"right_units\":\"screen\",\"top_units\":\"screen\"},\"id\":\"9dbfc206-7bb7-4a64-851c-4430fdcf6c41\",\"type\":\"BoxAnnotation\"},{\"attributes\":{\"fill_alpha\":{\"value\":0.1},\"fill_color\":{\"value\":\"#1f77b4\"},\"line_alpha\":{\"value\":0.1},\"line_color\":{\"value\":\"#1f77b4\"},\"x\":{\"field\":\"x\"},\"y\":{\"field\":\"y\"}},\"id\":\"62c83231-13fc-465a-b307-959be4de3396\",\"type\":\"Circle\"},{\"attributes\":{\"dimension\":1,\"plot\":{\"id\":\"1b13fb50-5a76-4aad-9096-03747b2f9765\",\"subtype\":\"Figure\",\"type\":\"Plot\"},\"ticker\":{\"id\":\"b202722d-0778-4217-97ce-690e3586db91\",\"type\":\"BasicTicker\"}},\"id\":\"43ffb357-11a5-4b3d-aa13-a30e1ddbea9e\",\"type\":\"Grid\"},{\"attributes\":{},\"id\":\"b202722d-0778-4217-97ce-690e3586db91\",\"type\":\"BasicTicker\"},{\"attributes\":{\"formatter\":{\"id\":\"0f7c805d-d433-40a3-a7fb-1b51f8497110\",\"type\":\"BasicTickFormatter\"},\"plot\":{\"id\":\"1b13fb50-5a76-4aad-9096-03747b2f9765\",\"subtype\":\"Figure\",\"type\":\"Plot\"},\"ticker\":{\"id\":\"b202722d-0778-4217-97ce-690e3586db91\",\"type\":\"BasicTicker\"}},\"id\":\"d893a199-86b0-4761-8114-93c43497adf6\",\"type\":\"LinearAxis\"},{\"attributes\":{\"plot\":{\"id\":\"1b13fb50-5a76-4aad-9096-03747b2f9765\",\"subtype\":\"Figure\",\"type\":\"Plot\"},\"ticker\":{\"id\":\"24724354-6261-4372-aa24-9582d7f44827\",\"type\":\"BasicTicker\"}},\"id\":\"0dba4941-34ae-4553-98bf-ec4ddb38ad30\",\"type\":\"Grid\"},{\"attributes\":{},\"id\":\"24724354-6261-4372-aa24-9582d7f44827\",\"type\":\"BasicTicker\"},{\"attributes\":{\"formatter\":{\"id\":\"da4b397f-b1f5-4f60-bf3e-9681767a6405\",\"type\":\"BasicTickFormatter\"},\"plot\":{\"id\":\"1b13fb50-5a76-4aad-9096-03747b2f9765\",\"subtype\":\"Figure\",\"type\":\"Plot\"},\"ticker\":{\"id\":\"24724354-6261-4372-aa24-9582d7f44827\",\"type\":\"BasicTicker\"}},\"id\":\"07845e7b-a38a-4c61-9ce2-b6810ffad28f\",\"type\":\"LinearAxis\"},{\"attributes\":{\"callback\":null},\"id\":\"3596d4f0-5b57-439b-9ed8-d5e87c8740d3\",\"type\":\"DataRange1d\"},{\"attributes\":{\"active_drag\":\"auto\",\"active_scroll\":\"auto\",\"active_tap\":\"auto\",\"tools\":[{\"id\":\"0628ee99-37ad-437b-aabf-cf7695f317bd\",\"type\":\"PanTool\"},{\"id\":\"7b355d88-cb28-40d8-998f-0f6545a9dcf3\",\"type\":\"WheelZoomTool\"},{\"id\":\"fc2ab2cd-d382-4bd8-bb59-63fbaa2fd1fd\",\"type\":\"BoxZoomTool\"},{\"id\":\"6e977e29-be41-4ab9-a130-f0ac94211ff2\",\"type\":\"SaveTool\"},{\"id\":\"a656a4ec-06b9-43a0-857a-6efe3701ecbb\",\"type\":\"ResetTool\"},{\"id\":\"46f7d30f-19c6-42d4-beb4-ee8090e13168\",\"type\":\"HelpTool\"}]},\"id\":\"f13cfef5-7b4c-453a-8cf6-72f9a8bd1603\",\"type\":\"Toolbar\"},{\"attributes\":{\"fill_color\":{\"value\":\"#1f77b4\"},\"line_color\":{\"value\":\"#1f77b4\"},\"x\":{\"field\":\"x\"},\"y\":{\"field\":\"y\"}},\"id\":\"3931f9a9-94a1-4589-8ead-addeb84e6968\",\"type\":\"Circle\"},{\"attributes\":{\"callback\":null},\"id\":\"f9ef1fd2-3844-4f36-96c7-8561e74bf7d0\",\"type\":\"DataRange1d\"},{\"attributes\":{},\"id\":\"1675cb9b-2d7c-4d99-b4fa-e8b49b4c2a0a\",\"type\":\"ToolEvents\"}],\"root_ids\":[\"1b13fb50-5a76-4aad-9096-03747b2f9765\"]},\"title\":\"Bokeh Application\",\"version\":\"0.12.5\"}};\n",
      "      var render_items = [{\"docid\":\"78437bac-754e-4cca-a6ce-6db1e0b24b30\",\"elementid\":\"8bdd8169-de73-4429-8fef-da413d6c9f5a\",\"modelid\":\"1b13fb50-5a76-4aad-9096-03747b2f9765\"}];\n",
      "      \n",
      "      /* */\n",
      "\n",
      "      Bokeh.embed.embed_items(docs_json, render_items);\n",
      "\n",
      "      jQuery('#bokeh_body').css({overflow: 'visible', pointerEvents: 'all'})\n",
      "    });\n",
      "  };\n",
      "  document.addEventListener(\"dataavailable\", function() {\n",
      "    setTimeout(fn, 200)\n",
      "  })\n",
      "\n",
      "\n",
      "here!!!!!\n"
     ]
    }
   ],
   "source": [
    "interactive_keynote.add_bokeh_plots('/Users/bendichter/Development/interactive_keynote/test_pres2/', plot_dict)"
   ]
  },
  {
   "cell_type": "code",
   "execution_count": 74,
   "metadata": {
    "collapsed": false
   },
   "outputs": [
    {
     "name": "stdout",
     "output_type": "stream",
     "text": [
      "The autoreload extension is already loaded. To reload it, use:\n",
      "  %reload_ext autoreload\n"
     ]
    }
   ],
   "source": []
  },
  {
   "cell_type": "code",
   "execution_count": null,
   "metadata": {
    "collapsed": true
   },
   "outputs": [],
   "source": []
  }
 ],
 "metadata": {
  "anaconda-cloud": {},
  "kernelspec": {
   "display_name": "Python [conda env:interactive_keynote]",
   "language": "python",
   "name": "conda-env-interactive_keynote-py"
  },
  "language_info": {
   "codemirror_mode": {
    "name": "ipython",
    "version": 3
   },
   "file_extension": ".py",
   "mimetype": "text/x-python",
   "name": "python",
   "nbconvert_exporter": "python",
   "pygments_lexer": "ipython3",
   "version": "3.6.1"
  }
 },
 "nbformat": 4,
 "nbformat_minor": 2
}
